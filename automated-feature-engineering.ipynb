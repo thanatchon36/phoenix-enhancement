{
 "cells": [
  {
   "cell_type": "code",
   "execution_count": null,
   "metadata": {},
   "outputs": [],
   "source": [
    "import pandas as pd\n",
    "import time\n",
    "import datetime\n",
    "pd.options.display.float_format = '{:,}'.format\n",
    "from IPython.core.interactiveshell import InteractiveShell\n",
    "InteractiveShell.ast_node_interactivity = \"all\"\n",
    "pd.options.display.float_format = '{:,}'.format\n",
    "\n",
    "#https://docs.featuretools.com/en/stable/\n",
    "import featuretools as ft\n",
    "print('OK !')"
   ]
  },
  {
   "cell_type": "code",
   "execution_count": null,
   "metadata": {},
   "outputs": [],
   "source": [
    "df = pd.read_csv('data/Data_Phoenix_Campaign_Enhancement.csv')\n",
    "\n",
    "len(df)"
   ]
  },
  {
   "cell_type": "code",
   "execution_count": null,
   "metadata": {},
   "outputs": [],
   "source": [
    "df['actual_offer_percent'] = df['campaign_premium']*100 / df['policy_annual_premium']\n",
    "df['offer_score'] = df['campaign_offer_percent'] - df['actual_offer_percent']"
   ]
  },
  {
   "cell_type": "code",
   "execution_count": null,
   "metadata": {},
   "outputs": [],
   "source": [
    "def change_dt(num):\n",
    "    num = str(num)\n",
    "    year = num[:4]\n",
    "    mon = num[-2:]\n",
    "    return datetime.datetime(int(year), int(mon), 1)\n",
    "df['campaign_offer_date'] = df['campaign_offer_date'].astype(str)\n",
    "df['campaign_offer_date'] = df['campaign_offer_date'].apply(change_dt)"
   ]
  },
  {
   "cell_type": "code",
   "execution_count": null,
   "metadata": {},
   "outputs": [],
   "source": [
    "df['current_holding'] = df['campaign_offer_product'].map(str) + '_'+\\\n",
    "                    df['cus_ct_A1_product_holding'].map(str) + '_'+\\\n",
    "                    df['cus_ct_A2_product_holding'].map(str) + '_'+\\\n",
    "                    df['cus_ct_C1_product_holding'].map(str) + '_'+\\\n",
    "                    df['cus_ct_E1_product_holding'].map(str) + '_'+\\\n",
    "                    df['cus_ct_H1_product_holding'].map(str) + '_'+\\\n",
    "                    df['cus_ct_H2_product_holding'].map(str) \n",
    "\n",
    "prod_dict = {}\n",
    "prod_dict['A1'] = 1\n",
    "prod_dict['A2'] = 2\n",
    "prod_dict['C1'] = 3\n",
    "prod_dict['E1'] = 4\n",
    "prod_dict['H1'] = 5\n",
    "prod_dict['H2'] = 6\n",
    "\n",
    "prod_dict\n",
    "\n",
    "def is_existing(prod_text):\n",
    "    prod_list = prod_text.split('_')\n",
    "    prod_name = prod_list[0]\n",
    "    \n",
    "    cur_num = prod_list[prod_dict[prod_name]]\n",
    "    \n",
    "    return int(cur_num) \n",
    "\n",
    "df['current_holding'] = df['current_holding'].apply(is_existing)"
   ]
  },
  {
   "cell_type": "code",
   "execution_count": null,
   "metadata": {},
   "outputs": [],
   "source": [
    "cols = ['policy_id','customer_age','customer_gender','cus_marital_status']\n",
    "pol_df = df[cols].drop_duplicates()\n",
    "\n",
    "cols = pol_df.columns\n",
    "pol_df = pol_df.groupby('policy_id').first().reset_index()[cols]\n",
    "\n",
    "pol_df.head()"
   ]
  },
  {
   "cell_type": "code",
   "execution_count": null,
   "metadata": {},
   "outputs": [],
   "source": [
    "cols = ['policy_id','campaign_offer_date','policy_annual_premium','campaign_premium',\n",
    "        'campaign_offer_percent','campaign_offer_product','actual_offer_percent','offer_score',\n",
    "        'campaign_take_up',\n",
    "        'current_holding'\n",
    "        ]\n",
    "offer_df = df[cols].drop_duplicates().reset_index()\n",
    "offer_df=offer_df.rename(columns = {'index':'offer_id'})\n",
    "offer_df.head()"
   ]
  },
  {
   "cell_type": "code",
   "execution_count": null,
   "metadata": {},
   "outputs": [],
   "source": [
    "entities = {\n",
    "       \"policies\" : (pol_df, \"policy_id\"),\n",
    "       \"offers\" : (offer_df, \"offer_id\", \"campaign_offer_date\"),\n",
    "    }\n",
    "\n",
    "relationships = [(\"policies\", \"policy_id\", \"offers\", \"policy_id\")]\n",
    "\n",
    "ft.EntitySet(\"my-entity-set\", entities, relationships).plot()"
   ]
  },
  {
   "cell_type": "code",
   "execution_count": null,
   "metadata": {},
   "outputs": [],
   "source": [
    "es = ft.EntitySet(\"my-entity-set\", entities, relationships)"
   ]
  },
  {
   "cell_type": "code",
   "execution_count": null,
   "metadata": {},
   "outputs": [],
   "source": [
    "es[\"offers\"][\"campaign_take_up\"].interesting_values = [\"Y\", \"N\"]\n",
    "es[\"offers\"][\"campaign_offer_product\"].interesting_values = [\"E1\", \"A1\", \"A2\", \"C1\",\"H1\",\"H2\"]"
   ]
  },
  {
   "cell_type": "code",
   "execution_count": null,
   "metadata": {},
   "outputs": [],
   "source": [
    "start_time = time.time()\n",
    "\n",
    "feature_matrix_policy, features_defs = ft.dfs(entities=es,  entityset=es,\n",
    "                         agg_primitives=['max','median','trend','avg_time_between',\\\n",
    "                                         'min','std','mean','sum','skew',\\\n",
    "                                         'count','mode','last','time_since_first'\n",
    "                                                                    ],\n",
    "                        where_primitives=['max','median','trend','avg_time_between',\\\n",
    "                                         'min','std','mean','sum','skew',\\\n",
    "                                         'count','mode','last','time_since_first'\n",
    "                                                                    ],\n",
    "                                                 \n",
    "                                         ignore_variables={'offers': [\"offer_id\"]},\n",
    "                                                     target_entity=\"policies\"\n",
    "                                        )\n",
    "print(\"--- %s seconds ---\" % (time.time() - start_time))"
   ]
  },
  {
   "cell_type": "code",
   "execution_count": null,
   "metadata": {},
   "outputs": [],
   "source": [
    "#feature_matrix_policy is compressed as feature_matrix_policy.csv.zip in data directory\n",
    "feature_matrix_policy.to_csv('data/feature_matrix_policy.csv',index= False)"
   ]
  },
  {
   "cell_type": "code",
   "execution_count": null,
   "metadata": {},
   "outputs": [],
   "source": [
    "feature_matrix_policy = pd.read_csv('data/feature_matrix_policy.csv')"
   ]
  },
  {
   "cell_type": "code",
   "execution_count": null,
   "metadata": {},
   "outputs": [],
   "source": [
    "len(feature_matrix_policy.columns)\n",
    "for each in feature_matrix_policy.columns:\n",
    "    print(each)"
   ]
  },
  {
   "cell_type": "code",
   "execution_count": null,
   "metadata": {},
   "outputs": [],
   "source": [
    "agg_ft = ft.primitives.list_primitives()\n",
    "agg_ft[agg_ft['type'] == 'aggregation']"
   ]
  }
 ],
 "metadata": {
  "kernelspec": {
   "display_name": "py36",
   "language": "python",
   "name": "py36"
  },
  "language_info": {
   "codemirror_mode": {
    "name": "ipython",
    "version": 3
   },
   "file_extension": ".py",
   "mimetype": "text/x-python",
   "name": "python",
   "nbconvert_exporter": "python",
   "pygments_lexer": "ipython3",
   "version": "3.6.8"
  }
 },
 "nbformat": 4,
 "nbformat_minor": 2
}
