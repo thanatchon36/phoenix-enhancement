{
 "cells": [
  {
   "cell_type": "code",
   "execution_count": 1,
   "metadata": {},
   "outputs": [
    {
     "name": "stderr",
     "output_type": "stream",
     "text": [
      "\n",
      "Bad key \"text.kerning_factor\" on line 4 in\n",
      "/Users/thanatchonchongmankhong/anaconda3/envs/py36/lib/python3.6/site-packages/matplotlib/mpl-data/stylelib/_classic_test_patch.mplstyle.\n",
      "You probably need to get an updated matplotlibrc file from\n",
      "http://github.com/matplotlib/matplotlib/blob/master/matplotlibrc.template\n",
      "or from the matplotlib source distribution\n",
      "/Users/thanatchonchongmankhong/anaconda3/envs/py36/lib/python3.6/site-packages/statsmodels/tools/_testing.py:19: FutureWarning: pandas.util.testing is deprecated. Use the functions in the public API at pandas.testing instead.\n",
      "  import pandas.util.testing as tm\n"
     ]
    },
    {
     "name": "stdout",
     "output_type": "stream",
     "text": [
      "OK !\n"
     ]
    }
   ],
   "source": [
    "import pandas as pd\n",
    "\n",
    "import time\n",
    "pd.options.display.float_format = '{:,}'.format\n",
    "\n",
    "from IPython.core.interactiveshell import InteractiveShell\n",
    "InteractiveShell.ast_node_interactivity = \"all\"\n",
    "\n",
    "import seaborn as sns;\n",
    "import matplotlib.pyplot as plt\n",
    "\n",
    "from scipy.stats import pearsonr\n",
    "from scipy.stats import linregress\n",
    "\n",
    "from feature_engine import categorical_encoders as ce\n",
    "from sklearn.model_selection import train_test_split\n",
    "\n",
    "from feature_engine import discretisers as dsc\n",
    "\n",
    "from feature_engine import outlier_removers as outr\n",
    "\n",
    "import numpy as np\n",
    "pd.options.display.float_format = '{:,}'.format\n",
    "\n",
    "import featuretools as ft\n",
    "import datetime\n",
    "\n",
    "from hypothetical.hypothesis import BinomialTest, tTest\n",
    "\n",
    "from normtestPY.params_mle import params_mle\n",
    "from normtestPY.shapiro_wilk import shapiro_wilk\n",
    "from normtestPY.make_qqplot import make_qqplot\n",
    "\n",
    "from itertools import permutations \n",
    "from itertools import combinations \n",
    "  \n",
    "def rSubset(arr, r): \n",
    "  \n",
    "    # return list of all subsets of length r \n",
    "    # to deal with duplicate subsets use  \n",
    "    # set(list(combinations(arr, r)))\n",
    "    return list(combinations(arr, r)) \n",
    "print('OK !')"
   ]
  },
  {
   "cell_type": "code",
   "execution_count": 2,
   "metadata": {},
   "outputs": [
    {
     "data": {
      "text/plain": [
       "152451"
      ]
     },
     "execution_count": 2,
     "metadata": {},
     "output_type": "execute_result"
    }
   ],
   "source": [
    "df = pd.read_csv('data/Data_Phoenix_Campaign_Enhancement.csv')\n",
    "\n",
    "len(df)"
   ]
  },
  {
   "cell_type": "code",
   "execution_count": 3,
   "metadata": {},
   "outputs": [],
   "source": [
    "df['actual_offer_percent'] = df['campaign_premium']*100 / df['policy_annual_premium']"
   ]
  },
  {
   "cell_type": "code",
   "execution_count": 4,
   "metadata": {},
   "outputs": [],
   "source": [
    "df['campaign_offer_date'] = df['campaign_offer_date'].astype(str)\n",
    "df['offer_score'] = df['campaign_offer_percent'] - df['actual_offer_percent']\n",
    "\n",
    "def change_dt(num):\n",
    "    num = str(num)\n",
    "    year = num[:4]\n",
    "    mon = num[-2:]\n",
    "    return datetime.datetime(int(year), int(mon), 1)\n",
    "\n",
    "df['campaign_offer_date'] = df['campaign_offer_date'].apply(change_dt)\n",
    "\n",
    "df['campaign_offer_percent'] = df['campaign_offer_percent'].apply(lambda x: str(x) + '%')"
   ]
  },
  {
   "cell_type": "code",
   "execution_count": 5,
   "metadata": {},
   "outputs": [
    {
     "data": {
      "text/plain": [
       "EqualFrequencyDiscretiser(q=6, return_object=False, variables=['customer_age'])"
      ]
     },
     "execution_count": 5,
     "metadata": {},
     "output_type": "execute_result"
    },
    {
     "data": {
      "text/plain": [
       "{'customer_age': [-inf, 18.0, 27.0, 38.0, 45.0, 52.0, inf]}"
      ]
     },
     "execution_count": 5,
     "metadata": {},
     "output_type": "execute_result"
    }
   ],
   "source": [
    "encoder = ce.OrdinalCategoricalEncoder(encoding_method='ordered',\n",
    "                                                 variables=['customer_age'])\n",
    "\n",
    "disc = dsc.EqualFrequencyDiscretiser(q=6, variables=['customer_age'])\n",
    "\n",
    "disc.fit(df)\n",
    "\n",
    "disc.binner_dict_"
   ]
  },
  {
   "cell_type": "code",
   "execution_count": 6,
   "metadata": {},
   "outputs": [
    {
     "data": {
      "text/plain": [
       "EqualFrequencyDiscretiser(q=6, return_object=False,\n",
       "                          variables=['policy_annual_premium'])"
      ]
     },
     "execution_count": 6,
     "metadata": {},
     "output_type": "execute_result"
    },
    {
     "data": {
      "text/plain": [
       "{'policy_annual_premium': [-inf,\n",
       "  60255.0,\n",
       "  87960.0,\n",
       "  129567.0,\n",
       "  189702.0,\n",
       "  302003.0,\n",
       "  inf]}"
      ]
     },
     "execution_count": 6,
     "metadata": {},
     "output_type": "execute_result"
    }
   ],
   "source": [
    "encoder = ce.OrdinalCategoricalEncoder(encoding_method='ordered',\n",
    "                                                 variables=['policy_annual_premium'])\n",
    "\n",
    "disc = dsc.EqualFrequencyDiscretiser(q=6, variables=['policy_annual_premium'])\n",
    "\n",
    "disc.fit(df)\n",
    "\n",
    "disc.binner_dict_"
   ]
  },
  {
   "cell_type": "code",
   "execution_count": 7,
   "metadata": {},
   "outputs": [
    {
     "data": {
      "text/plain": [
       "EqualFrequencyDiscretiser(q=6, return_object=False, variables=['offer_score'])"
      ]
     },
     "execution_count": 7,
     "metadata": {},
     "output_type": "execute_result"
    },
    {
     "data": {
      "text/plain": [
       "{'offer_score': [-inf,\n",
       "  0.9855570793426788,\n",
       "  2.4131944444444446,\n",
       "  4.454225352112676,\n",
       "  6.638974492892593,\n",
       "  9.437292027938302,\n",
       "  inf]}"
      ]
     },
     "execution_count": 7,
     "metadata": {},
     "output_type": "execute_result"
    }
   ],
   "source": [
    "encoder = ce.OrdinalCategoricalEncoder(encoding_method='ordered',\n",
    "                                                 variables=['offer_score'])\n",
    "\n",
    "disc = dsc.EqualFrequencyDiscretiser(q=6, variables=['offer_score'])\n",
    "\n",
    "disc.fit(df)\n",
    "\n",
    "disc.binner_dict_"
   ]
  },
  {
   "cell_type": "code",
   "execution_count": 8,
   "metadata": {},
   "outputs": [
    {
     "data": {
      "text/plain": [
       "Very Risk    25430\n",
       "Excellent    25405\n",
       "Good         25405\n",
       "Normal       25404\n",
       "Risk         25404\n",
       "Very Good    25403\n",
       "Name: risk_level, dtype: int64"
      ]
     },
     "execution_count": 8,
     "metadata": {},
     "output_type": "execute_result"
    }
   ],
   "source": [
    "def score_range(num):\n",
    "    if num <= 0.9867089531343896:\n",
    "        return 'Very Risk'\n",
    "    if num <= 2.414308168548696:\n",
    "        return 'Risk'\n",
    "    if num <= 4.455910087606812:\n",
    "        return 'Normal'\n",
    "    if num <= 6.639344262295082:\n",
    "        return 'Good'\n",
    "    if num <= 9.438780229576585:\n",
    "        return 'Very Good'\n",
    "    else:\n",
    "        return 'Excellent'\n",
    "    \n",
    "df['risk_level'] = df['offer_score'].apply(score_range)\n",
    "df['risk_level'].value_counts()"
   ]
  },
  {
   "cell_type": "code",
   "execution_count": 9,
   "metadata": {},
   "outputs": [
    {
     "data": {
      "text/plain": [
       "300,001+            25686\n",
       "60,001-88,000       25677\n",
       "88,001-130,0000     25587\n",
       "130,000-190,000     25276\n",
       "1-60,000            25172\n",
       "190,001-300,0000    25053\n",
       "Name: annual_range, dtype: int64"
      ]
     },
     "execution_count": 9,
     "metadata": {},
     "output_type": "execute_result"
    }
   ],
   "source": [
    "def annual_range(num):\n",
    "    if num <= 60000:\n",
    "        return '1-60,000'\n",
    "    if num <= 88000:\n",
    "        return '60,001-88,000'\n",
    "    if num <= 130000:\n",
    "        return '88,001-130,0000'\n",
    "    if num <= 190000:\n",
    "        return '130,000-190,000'\n",
    "    if num <= 300000:\n",
    "        return '190,001-300,0000'\n",
    "    else:\n",
    "        return '300,001+'\n",
    "    \n",
    "df['annual_range'] = df['policy_annual_premium'].apply(annual_range)\n",
    "\n",
    "df['annual_range'].value_counts()"
   ]
  },
  {
   "cell_type": "code",
   "execution_count": 10,
   "metadata": {},
   "outputs": [
    {
     "data": {
      "text/plain": [
       "1-18     27617\n",
       "39-45    26199\n",
       "28-38    25216\n",
       "53+      25131\n",
       "46-52    24798\n",
       "19-27    23490\n",
       "Name: age_range, dtype: int64"
      ]
     },
     "execution_count": 10,
     "metadata": {},
     "output_type": "execute_result"
    }
   ],
   "source": [
    "def age_range(num):\n",
    "    if num <= 18:\n",
    "        return '1-18'\n",
    "    if num <= 27:\n",
    "        return '19-27'\n",
    "    if num <= 38:\n",
    "        return '28-38'\n",
    "    if num <= 45:\n",
    "        return '39-45'\n",
    "    if num <= 52:\n",
    "        return '46-52'\n",
    "    else:\n",
    "        return '53+'\n",
    "    \n",
    "df['age_range'] = df['customer_age'].apply(age_range)\n",
    "\n",
    "df['age_range'].value_counts()"
   ]
  },
  {
   "cell_type": "code",
   "execution_count": 11,
   "metadata": {},
   "outputs": [],
   "source": [
    "df['year'] = df['campaign_offer_date'].apply(lambda x: int(str(x)[:4]))"
   ]
  },
  {
   "cell_type": "code",
   "execution_count": 12,
   "metadata": {},
   "outputs": [
    {
     "name": "stdout",
     "output_type": "stream",
     "text": [
      "OK !\n"
     ]
    }
   ],
   "source": [
    "def premium_y_2017_10(df):\n",
    "    if df['year'] == 2017 and df['campaign_take_up'] == 'Y' and df['campaign_offer_percent'] == '10%':\n",
    "        return df['campaign_premium']\n",
    "    else:\n",
    "        return 0\n",
    "    \n",
    "def premium_n_2017_10(df):\n",
    "    if df['year'] == 2017 and df['campaign_take_up'] == 'N' and df['campaign_offer_percent'] == '10%':\n",
    "        return df['campaign_premium']\n",
    "    else:\n",
    "        return 0\n",
    "    \n",
    "def premium_y_2018_15(df):\n",
    "    if df['year'] == 2018 and df['campaign_take_up'] == 'Y' and df['campaign_offer_percent'] == '15%':\n",
    "        return df['campaign_premium']\n",
    "    else:\n",
    "        return 0\n",
    "    \n",
    "def premium_n_2018_15(df):\n",
    "    if df['year'] == 2018 and df['campaign_take_up'] == 'N' and df['campaign_offer_percent'] == '15%':\n",
    "        return df['campaign_premium']\n",
    "    else:\n",
    "        return 0\n",
    "    \n",
    "cols = ['year','campaign_take_up','campaign_offer_percent','campaign_premium']\n",
    "\n",
    "df['premium_y_2017_10'] = df[cols].apply(premium_y_2017_10, axis=1)\n",
    "df['premium_n_2017_10'] = df[cols].apply(premium_n_2017_10, axis=1)\n",
    "\n",
    "df['premium_y_2018_15'] = df[cols].apply(premium_y_2018_15, axis=1)\n",
    "df['premium_n_2018_15'] = df[cols].apply(premium_n_2018_15, axis=1)\n",
    "\n",
    "print('OK !')"
   ]
  },
  {
   "cell_type": "code",
   "execution_count": 13,
   "metadata": {},
   "outputs": [],
   "source": [
    "cols = df.columns\n",
    "df = df[df['offer_score'] > -20].reset_index()[cols]"
   ]
  },
  {
   "cell_type": "code",
   "execution_count": 14,
   "metadata": {},
   "outputs": [],
   "source": [
    "df['current_holding'] = df['campaign_offer_product'].map(str) + '_'+\\\n",
    "                    df['cus_ct_A1_product_holding'].map(str) + '_'+\\\n",
    "                    df['cus_ct_A2_product_holding'].map(str) + '_'+\\\n",
    "                    df['cus_ct_C1_product_holding'].map(str) + '_'+\\\n",
    "                    df['cus_ct_E1_product_holding'].map(str) + '_'+\\\n",
    "                    df['cus_ct_H1_product_holding'].map(str) + '_'+\\\n",
    "                    df['cus_ct_H2_product_holding'].map(str) \n",
    "\n",
    "prod_dict = {}\n",
    "prod_dict['A1'] = 1\n",
    "prod_dict['A2'] = 2\n",
    "prod_dict['C1'] = 3\n",
    "prod_dict['E1'] = 4\n",
    "prod_dict['H1'] = 5\n",
    "prod_dict['H2'] = 6\n",
    "\n",
    "def is_existing(prod_text):\n",
    "    prod_list = prod_text.split('_')\n",
    "    prod_name = prod_list[0]\n",
    "    \n",
    "    cur_num = prod_list[prod_dict[prod_name]]\n",
    "    \n",
    "    return int(cur_num) \n",
    "\n",
    "df['current_holding'] = df['current_holding'].apply(is_existing)"
   ]
  },
  {
   "cell_type": "code",
   "execution_count": 15,
   "metadata": {},
   "outputs": [],
   "source": [
    "df['is_holding'] = df['current_holding'].apply(lambda x: x>0)"
   ]
  },
  {
   "cell_type": "code",
   "execution_count": 16,
   "metadata": {},
   "outputs": [],
   "source": [
    "df['2018_15_2017_10'] = df['campaign_offer_date'].apply(lambda x: str(x)[:4]) + '_' +df['campaign_offer_percent']\n",
    "\n",
    "def is_2017_2018(text):\n",
    "    year = text.split('_')[0]\n",
    "    per = text.split('_')[1]\n",
    "    \n",
    "    if year == '2017' and per == '10%':\n",
    "        return True\n",
    "    if year == '2018' and per == '15%':\n",
    "        return True\n",
    "    else:\n",
    "        return False\n",
    "    \n",
    "df['2018_15_2017_10'] = df['2018_15_2017_10'].apply(is_2017_2018)"
   ]
  },
  {
   "cell_type": "code",
   "execution_count": 17,
   "metadata": {},
   "outputs": [],
   "source": [
    "df.to_csv('data/defined_Data_Phoenix_Campaign_Enhancement.csv', index =False)"
   ]
  }
 ],
 "metadata": {
  "kernelspec": {
   "display_name": "py36",
   "language": "python",
   "name": "py36"
  },
  "language_info": {
   "codemirror_mode": {
    "name": "ipython",
    "version": 3
   },
   "file_extension": ".py",
   "mimetype": "text/x-python",
   "name": "python",
   "nbconvert_exporter": "python",
   "pygments_lexer": "ipython3",
   "version": "3.6.8"
  }
 },
 "nbformat": 4,
 "nbformat_minor": 2
}
